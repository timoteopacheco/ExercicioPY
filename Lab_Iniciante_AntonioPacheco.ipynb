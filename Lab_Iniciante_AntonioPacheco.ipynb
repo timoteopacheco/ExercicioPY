{
 "cells": [
  {
   "cell_type": "markdown",
   "id": "8edce5fd-874d-4a43-aa77-598ca0020fe5",
   "metadata": {},
   "source": [
    "## Atividades"
   ]
  },
  {
   "cell_type": "markdown",
   "id": "821b6d3d-90f2-4160-b14e-d0a2d8b6c42b",
   "metadata": {},
   "source": [
    "### **1.1 Criando uma Lista de Compras**\r\n",
    "\r\n",
    "**Passo a Passo:**\r\n",
    "\r\n",
    "1. **Criar uma nova célula no seu notebook.**\r\n",
    "2. **Crie uma lista chamada `lista_compras` com os seguintes itens: \"leite\", \"pão\", \"queijo\".**"
   ]
  },
  {
   "cell_type": "code",
   "execution_count": 4,
   "id": "6cce3d4d-3482-407f-b289-a2769431598c",
   "metadata": {},
   "outputs": [],
   "source": [
    "lista_compras = [\"leite\", \"pão\", \"queijo\"]   "
   ]
  },
  {
   "cell_type": "code",
   "execution_count": 6,
   "id": "b0dabe2d-c44e-42ee-af00-4096e341295e",
   "metadata": {},
   "outputs": [
    {
     "name": "stdout",
     "output_type": "stream",
     "text": [
      "['leite', 'pão', 'queijo']\n"
     ]
    }
   ],
   "source": [
    "print(lista_compras)"
   ]
  },
  {
   "cell_type": "markdown",
   "id": "18a0d8a3-4b73-4863-852c-30186c402b70",
   "metadata": {},
   "source": [
    "**Adicione o item \"ovos\" à lista utilizando o método append().**"
   ]
  },
  {
   "cell_type": "code",
   "execution_count": 13,
   "id": "99aa7bca-324e-4e96-a452-d82f159e084d",
   "metadata": {},
   "outputs": [],
   "source": [
    "lista_compras.append(\"ovos\")"
   ]
  },
  {
   "cell_type": "code",
   "execution_count": 15,
   "id": "0059c991-fc79-4d3d-b9ab-0cc152df621b",
   "metadata": {},
   "outputs": [
    {
     "name": "stdout",
     "output_type": "stream",
     "text": [
      "['leite', 'pão', 'queijo', 'ovos']\n"
     ]
    }
   ],
   "source": [
    "print(lista_compras)"
   ]
  },
  {
   "cell_type": "markdown",
   "id": "fe98892b-8d63-4960-bcc2-e870138f98b3",
   "metadata": {},
   "source": [
    "**Remova o item \"pão\" da lista utilizando o método remove().**"
   ]
  },
  {
   "cell_type": "code",
   "execution_count": 18,
   "id": "1100f848-fc77-4a4c-9101-304dbb6969cd",
   "metadata": {},
   "outputs": [],
   "source": [
    "lista_compras.remove(\"pão\")"
   ]
  },
  {
   "cell_type": "code",
   "execution_count": 20,
   "id": "48fa50fe-2e9d-463c-a74b-e72efd41d520",
   "metadata": {},
   "outputs": [
    {
     "name": "stdout",
     "output_type": "stream",
     "text": [
      "['leite', 'queijo', 'ovos']\n"
     ]
    }
   ],
   "source": [
    "print(lista_compras)"
   ]
  },
  {
   "cell_type": "markdown",
   "id": "5fdff155-4093-48e7-8afc-1ab8ab1d8d6a",
   "metadata": {},
   "source": [
    "### **1.2 Acessar Elementos da Lista**\r\n",
    "\r\n",
    "**Passo a Passo:**\r\n",
    "\r\n",
    "1. **Exiba o primeiro item da lista acessando o índice 0.**"
   ]
  },
  {
   "cell_type": "code",
   "execution_count": 23,
   "id": "d1a56d93-e263-4a98-b3f6-152ea1c10211",
   "metadata": {},
   "outputs": [
    {
     "name": "stdout",
     "output_type": "stream",
     "text": [
      "leite\n"
     ]
    }
   ],
   "source": [
    "print(lista_compras[0])"
   ]
  },
  {
   "cell_type": "markdown",
   "id": "bb44d79f-2973-45ff-837e-ee679c823391",
   "metadata": {},
   "source": [
    "**Exiba o último item da lista utilizando índice negativo.**"
   ]
  },
  {
   "cell_type": "code",
   "execution_count": 28,
   "id": "ea7066e1-a710-4ec5-ab18-519674516152",
   "metadata": {},
   "outputs": [
    {
     "name": "stdout",
     "output_type": "stream",
     "text": [
      "ovos\n"
     ]
    }
   ],
   "source": [
    "print(lista_compras[-1])"
   ]
  },
  {
   "cell_type": "markdown",
   "id": "7fc4e665-648e-4e3b-b41d-2d79023055fa",
   "metadata": {},
   "source": [
    "**Verifique quantos itens há na lista utilizando a função len().**"
   ]
  },
  {
   "cell_type": "code",
   "execution_count": 31,
   "id": "f7931912-b7f1-4b22-a497-5f3018bc4fb8",
   "metadata": {},
   "outputs": [
    {
     "name": "stdout",
     "output_type": "stream",
     "text": [
      "3\n"
     ]
    }
   ],
   "source": [
    "print(len(lista_compras))"
   ]
  },
  {
   "cell_type": "markdown",
   "id": "ffb425a1-1e5f-4ecb-b375-7feef6cbdbb5",
   "metadata": {},
   "source": [
    "### **2. Dicionários Simples**\r\n",
    "\r\n",
    "Os dicionários são estruturas que permitem armazenar pares de chave-valor. Vamos criar e manipular um dicionário simples.\r\n",
    "\r\n",
    "### **2.1 Criando um Dicionário de Contatos**\r\n",
    "\r\n",
    "**Passo a Passo:**\r\n",
    "\r\n",
    "1. **Crie um dicionário chamado `contatos` com as seguintes chaves e valores:**\r\n",
    "    - **\"Ana\": \"1234-5678\"**\r\n",
    "    - **\"Bruno\": \"8765-4321\"**"
   ]
  },
  {
   "cell_type": "code",
   "execution_count": 34,
   "id": "2d968825-2f6b-4a0d-81f4-d059d391d50c",
   "metadata": {},
   "outputs": [],
   "source": [
    "contatos = {\"Ana\": \"1234-5678\", \"Bruno\":\"8765-4321\"}"
   ]
  },
  {
   "cell_type": "markdown",
   "id": "b6824d16-e007-45ba-a890-c5ce2eafa588",
   "metadata": {},
   "source": [
    "**Exiba o número de telefone de \"Ana\" acessando a chave correspondente.**"
   ]
  },
  {
   "cell_type": "code",
   "execution_count": 37,
   "id": "f9685475-2f1d-4f9e-a8a6-650a2c477aa3",
   "metadata": {},
   "outputs": [
    {
     "name": "stdout",
     "output_type": "stream",
     "text": [
      "1234-5678\n"
     ]
    }
   ],
   "source": [
    "print(contatos[\"Ana\"])"
   ]
  },
  {
   "cell_type": "markdown",
   "id": "acb8ed0f-0827-46b3-83c4-1c1860785e46",
   "metadata": {},
   "source": [
    "**Adicione um novo contato \"Carlos\" com o número \"1122-3344\".**"
   ]
  },
  {
   "cell_type": "code",
   "execution_count": 42,
   "id": "450b4353-5407-48fe-aaaf-a245e493d96c",
   "metadata": {},
   "outputs": [],
   "source": [
    "contatos[\"Carlos\"] = \"1122-3344\""
   ]
  },
  {
   "cell_type": "code",
   "execution_count": 44,
   "id": "c5278f41-c6bf-4cf2-8994-74caad44836d",
   "metadata": {},
   "outputs": [
    {
     "name": "stdout",
     "output_type": "stream",
     "text": [
      "{'Ana': '1234-5678', 'Bruno': '8765-4321', 'Carlos': '1122-3344'}\n"
     ]
    }
   ],
   "source": [
    "print(contatos)"
   ]
  },
  {
   "cell_type": "code",
   "execution_count": 46,
   "id": "9c34fae1-ba1e-4c27-bb39-5a80f91da787",
   "metadata": {},
   "outputs": [],
   "source": [
    "contatos [\"João\"] = \"2211-7799\""
   ]
  },
  {
   "cell_type": "code",
   "execution_count": 48,
   "id": "b0dee2dd-8a34-40ca-98a3-8e1631d08163",
   "metadata": {},
   "outputs": [
    {
     "name": "stdout",
     "output_type": "stream",
     "text": [
      "{'Ana': '1234-5678', 'Bruno': '8765-4321', 'Carlos': '1122-3344', 'João': '2211-7799'}\n"
     ]
    }
   ],
   "source": [
    "print(contatos)"
   ]
  },
  {
   "cell_type": "markdown",
   "id": "8c8db734-abb4-4eb3-b749-49dea7fa7128",
   "metadata": {},
   "source": [
    "**Remova o contato \"Ana\" do dicionário utilizando o comando del.**"
   ]
  },
  {
   "cell_type": "code",
   "execution_count": 51,
   "id": "138ad4ad-94f6-4b99-835f-8b6a433e04a4",
   "metadata": {},
   "outputs": [],
   "source": [
    "del contatos[\"Ana\"]"
   ]
  },
  {
   "cell_type": "code",
   "execution_count": 53,
   "id": "77f5aead-a69c-438d-9126-819181f40568",
   "metadata": {},
   "outputs": [
    {
     "name": "stdout",
     "output_type": "stream",
     "text": [
      "{'Bruno': '8765-4321', 'Carlos': '1122-3344', 'João': '2211-7799'}\n"
     ]
    }
   ],
   "source": [
    "print(contatos)"
   ]
  },
  {
   "cell_type": "code",
   "execution_count": 55,
   "id": "a986a49b-5f4c-4ff8-99b2-a336cf48ff0c",
   "metadata": {},
   "outputs": [],
   "source": [
    "del contatos[\"João\"]"
   ]
  },
  {
   "cell_type": "code",
   "execution_count": 57,
   "id": "6f4c084e-567c-45ff-a7d6-a07b34087f1a",
   "metadata": {},
   "outputs": [
    {
     "name": "stdout",
     "output_type": "stream",
     "text": [
      "{'Bruno': '8765-4321', 'Carlos': '1122-3344'}\n"
     ]
    }
   ],
   "source": [
    "print(contatos)"
   ]
  },
  {
   "cell_type": "markdown",
   "id": "d55230ef-e99e-4393-8e03-a398a0055c85",
   "metadata": {},
   "source": [
    "### **3. Projeto Prático: Calculadora de Médias**\r\n",
    "\r\n",
    "Vamos criar um pequeno programa que calcula a média das notas de um aluno e verifica se ele foi aprovado.\r\n",
    "\r\n",
    "### **Objetivo**\r\n",
    "\r\n",
    "- Solicitar o nome do aluno e suas notas.\r\n",
    "- Calcular a média das notas.\r\n",
    "- Informar se o aluno foi aprovado (média maior ou igual a 7.0) ou reprovado."
   ]
  },
  {
   "cell_type": "markdown",
   "id": "26d0e0a2-d218-4a74-8f17-53db1fc6d128",
   "metadata": {},
   "source": [
    "### **Passo a Passo**\n",
    "\n",
    "1. **Peça ao utilizador para inserir o nome do aluno utilizando a função `input()`.**"
   ]
  },
  {
   "cell_type": "code",
   "execution_count": 65,
   "id": "4fbef0fd-3a2a-41dd-8411-cbe07c8c4553",
   "metadata": {},
   "outputs": [
    {
     "name": "stdin",
     "output_type": "stream",
     "text": [
      "Digite o nome do aluno:  Ana\n"
     ]
    }
   ],
   "source": [
    "nome_aluno = input(\"Digite o nome do aluno: \")"
   ]
  },
  {
   "cell_type": "markdown",
   "id": "76af6c92-84c2-4e8c-8f34-a2850deec4af",
   "metadata": {},
   "source": [
    "**Crie uma lista vazia chamada notas para armazenar as notas.**"
   ]
  },
  {
   "cell_type": "code",
   "execution_count": null,
   "id": "f5793d44-281b-49cb-9af6-5e55d7c05f20",
   "metadata": {},
   "outputs": [],
   "source": [
    "notas = []"
   ]
  },
  {
   "cell_type": "markdown",
   "id": "999bea69-80da-45b6-8e33-441f01344ae3",
   "metadata": {},
   "source": [
    "**Solicite ao utilizador que insira três notas, uma de cada vez, utilizando input() e convertendo para float. Adicione cada nota à lista notas utilizando append().**"
   ]
  },
  {
   "cell_type": "code",
   "execution_count": null,
   "id": "01434c2f-c11d-4d9c-8f3e-5bed744ad0ec",
   "metadata": {},
   "outputs": [],
   "source": [
    "nota1 = float(input(\"Digite a primeira nota: \"))\n",
    "notas.append(nota1)\n",
    "nota2 = float(input(\"Digite a segunda nota: \"))\n",
    "notas.append(nota2)\n",
    "nota3 = float(input(\"Digite a terceira nota: \"))\n",
    "notas.append(nota3)"
   ]
  },
  {
   "cell_type": "markdown",
   "id": "6b8b2170-2095-4435-a7b1-beea4fec5da2",
   "metadata": {},
   "source": [
    "**Calcule a média das notas utilizando as funções sum() e len().**"
   ]
  },
  {
   "cell_type": "code",
   "execution_count": null,
   "id": "62323df5-524e-4f99-8014-5931e6eefd58",
   "metadata": {},
   "outputs": [],
   "source": [
    "media = sum(notas) / len(notas)"
   ]
  },
  {
   "cell_type": "markdown",
   "id": "1b362b4d-8a3d-497d-a8d2-65d0ad3869f8",
   "metadata": {},
   "source": [
    "**Exiba o nome do aluno e a média calculada formatada com duas casas decimais.**"
   ]
  },
  {
   "cell_type": "code",
   "execution_count": null,
   "id": "ffa423dd-a51e-4b63-9cd6-a26e2532f57f",
   "metadata": {},
   "outputs": [],
   "source": [
    "print(f\"A média de {nome_aluno} é {media:.2f}\")"
   ]
  },
  {
   "cell_type": "markdown",
   "id": "6084ba37-c177-4217-9bd1-087f7ea65305",
   "metadata": {},
   "source": [
    "**Utilize uma estrutura condicional if...else para verificar se o aluno foi aprovado ou reprovado.**"
   ]
  },
  {
   "cell_type": "markdown",
   "id": "e2d706a9-e201-42b1-8fb7-bd349c9fe800",
   "metadata": {},
   "source": [
    "if media >= 7.0:\n",
    "    print(f\"{nome_aluno} foi aprovado.\")\n",
    "else:\n",
    "    print(f\"{nome_aluno} foi reprovado.\")"
   ]
  },
  {
   "cell_type": "code",
   "execution_count": 77,
   "id": "3e214725-24ee-4cc9-a015-425decb519d0",
   "metadata": {},
   "outputs": [
    {
     "name": "stdout",
     "output_type": "stream",
     "text": [
      "Ana\n"
     ]
    }
   ],
   "source": [
    "print(nome_aluno)"
   ]
  },
  {
   "cell_type": "code",
   "execution_count": 89,
   "id": "8cc3a7a0-45d6-4ff3-a418-80b773a15d5f",
   "metadata": {},
   "outputs": [
    {
     "name": "stdin",
     "output_type": "stream",
     "text": [
      "Digite o nome do aluno:  Ana\n",
      "Digite a primeira nota:  9\n",
      "Digite a segunda nota:  10\n",
      "Digite a terceira nota:  9\n"
     ]
    },
    {
     "name": "stdout",
     "output_type": "stream",
     "text": [
      "A média de Ana é 9.33\n",
      "Ana foi aprovado.\n"
     ]
    }
   ],
   "source": [
    "# Solicitar o nome do aluno\n",
    "nome_aluno = input(\"Digite o nome do aluno: \")\n",
    " \n",
    "# Criar uma lista vazia para armazenar as notas\n",
    "notas = []\n",
    " \n",
    "# Solicitar as três notas ao usuário e adicioná-las à lista\n",
    "nota1 = float(input(\"Digite a primeira nota: \"))\n",
    "notas.append(nota1)\n",
    " \n",
    "nota2 = float(input(\"Digite a segunda nota: \"))\n",
    "notas.append(nota2)\n",
    " \n",
    "nota3 = float(input(\"Digite a terceira nota: \"))\n",
    "notas.append(nota3)\n",
    " \n",
    "# Calcular a média das notas\n",
    "media = sum(notas) / len(notas)\n",
    " \n",
    "# Exibir a média calculada com duas casas decimais\n",
    "print(f\"A média de {nome_aluno} é {media:.2f}\")\n",
    " \n",
    "# Verificar se o aluno foi aprovado ou reprovado\n",
    "if media >= 7.0:\n",
    "    print(f\"{nome_aluno} foi aprovado.\")\n",
    "else:\n",
    "    print(f\"{nome_aluno} foi reprovado.\")"
   ]
  },
  {
   "cell_type": "code",
   "execution_count": null,
   "id": "e3bf578d-ab31-4270-ae9b-904b9683555e",
   "metadata": {},
   "outputs": [],
   "source": []
  }
 ],
 "metadata": {
  "kernelspec": {
   "display_name": "Python 3 (ipykernel)",
   "language": "python",
   "name": "python3"
  },
  "language_info": {
   "codemirror_mode": {
    "name": "ipython",
    "version": 3
   },
   "file_extension": ".py",
   "mimetype": "text/x-python",
   "name": "python",
   "nbconvert_exporter": "python",
   "pygments_lexer": "ipython3",
   "version": "3.12.4"
  }
 },
 "nbformat": 4,
 "nbformat_minor": 5
}
